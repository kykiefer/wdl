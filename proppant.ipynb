{
 "cells": [
  {
   "cell_type": "markdown",
   "metadata": {},
   "source": [
    "We often design frac treatments around historical success, relying on the successes and failures of \"wildcatters\" of the past to hone in what kind of treament works in a formation. Once we have a treatment design that tends to \"work\", we strive for continious improvment, iterating the baseline treatment in a controlled fashion and collecting data to evaluate the efficacy of our adjustments. These experiments are conducted by brilliant scientists and engineeers in the lab and field, leveraging proprietary simulation software, Excel, SpotFire, and various programming languages.\n",
    "\n",
    "But truthfully, the full power of the data is just beginning to be leveraged because it is *finally* being collected in ways that enable completions and field engineers to use it. Platforms, like Well Data Labs, collect it elegantly, allowing engineers to navigate their data with ease, throw together quick visuals that drive decisions, and extract the data in a format ready for advanced analytics. Now, let's talk advanced analytics.\n",
    "\n",
    "We're coming into an era where the scale of the data were collecting is allowing computers to run statistical learning algorithms to learn patterns in data at scale in ways humans can't fathom (i.e processing 100+ million rows of data, synthesizing data in more than 3 dimensions, combining varibales in non-linear fashions). We can now teach a robot to cook by watching YouTube videos and diagnose brain tumors with superior accuracy to medical professionals. So it doesn't seem unfathomable that we could generate novel frac treatments that have high production potential or use time series data to find pressure patterns that are likely to lead to screen outs (if we don't take action). Well Data Labs is enabling leaders in the oil and gas industry to store and navigate their data with ease, allowing engineers, software engineers, and analyst to take the leap into advanced analytics and for the ambitious to begin to employ machine learning.\n",
    "\n",
    "The realm of machine learning in oil & gas isn't limit to oil & gas production either. We're learning ways to predict field equipment failure from vibrational data, we're creating vehicle routing optimization algorithms to prioritize which wells completion engineers should travel to next, and we're using natural language processing to analyze engineerig/treater notes to predict which wellsites are at high risk candidates for safety incidents. Data science is moving the oil & gas industry from being reactive to proactive. But here's the catch -- we need people with oil & gas domain expertise building these algorithms! The oilfield is a complex and nunaced place and building predictive models and developing meaningful statistics is difficult with substantive expertise. Platforms like Tableau will take you far, but if you're looking to elevate your skillset you need to learn programming. Python and R and the languages of data science.\n",
    "\n",
    "Here's how to get started with Python, with data extracted from Well Data Labs:"
   ]
  },
  {
   "cell_type": "code",
   "execution_count": 7,
   "metadata": {
    "collapsed": true
   },
   "outputs": [],
   "source": [
    "import pandas as pd\n",
    "import numpy as np\n",
    "import matplotlib.pyplot as plt\n",
    "import seaborn as sns\n",
    "sns.set(style=\"ticks\")\n",
    "%matplotlib inline"
   ]
  },
  {
   "cell_type": "code",
   "execution_count": 50,
   "metadata": {},
   "outputs": [
    {
     "data": {
      "text/html": [
       "<div>\n",
       "<style>\n",
       "    .dataframe thead tr:only-child th {\n",
       "        text-align: right;\n",
       "    }\n",
       "\n",
       "    .dataframe thead th {\n",
       "        text-align: left;\n",
       "    }\n",
       "\n",
       "    .dataframe tbody tr th {\n",
       "        vertical-align: top;\n",
       "    }\n",
       "</style>\n",
       "<table border=\"1\" class=\"dataframe\">\n",
       "  <thead>\n",
       "    <tr style=\"text-align: right;\">\n",
       "      <th></th>\n",
       "      <th>Well</th>\n",
       "      <th>System</th>\n",
       "      <th>Formation</th>\n",
       "      <th>Formation.1</th>\n",
       "      <th>Fluid Type</th>\n",
       "      <th>100 Mesh, White [lbs]</th>\n",
       "      <th>30/50, White [lbs]</th>\n",
       "      <th>40/70, White [lbs]</th>\n",
       "      <th>20/40, White [lbs]</th>\n",
       "      <th>Total Proppant [lbs].1</th>\n",
       "      <th>Screen Out</th>\n",
       "    </tr>\n",
       "  </thead>\n",
       "  <tbody>\n",
       "    <tr>\n",
       "      <th>0</th>\n",
       "      <td>P2</td>\n",
       "      <td>Sliding Sleeve</td>\n",
       "      <td>Niobrara</td>\n",
       "      <td>Nio C</td>\n",
       "      <td>Gel</td>\n",
       "      <td>7412.0</td>\n",
       "      <td>NaN</td>\n",
       "      <td>NaN</td>\n",
       "      <td>163021.0</td>\n",
       "      <td>170433.0</td>\n",
       "      <td>No</td>\n",
       "    </tr>\n",
       "    <tr>\n",
       "      <th>1</th>\n",
       "      <td>P2</td>\n",
       "      <td>Sliding Sleeve</td>\n",
       "      <td>Niobrara</td>\n",
       "      <td>Nio C</td>\n",
       "      <td>Gel</td>\n",
       "      <td>6165.0</td>\n",
       "      <td>NaN</td>\n",
       "      <td>NaN</td>\n",
       "      <td>213117.0</td>\n",
       "      <td>219282.0</td>\n",
       "      <td>No</td>\n",
       "    </tr>\n",
       "    <tr>\n",
       "      <th>2</th>\n",
       "      <td>P2</td>\n",
       "      <td>Sliding Sleeve</td>\n",
       "      <td>Niobrara</td>\n",
       "      <td>Nio C</td>\n",
       "      <td>Gel</td>\n",
       "      <td>5880.0</td>\n",
       "      <td>NaN</td>\n",
       "      <td>NaN</td>\n",
       "      <td>205057.0</td>\n",
       "      <td>210937.0</td>\n",
       "      <td>No</td>\n",
       "    </tr>\n",
       "    <tr>\n",
       "      <th>3</th>\n",
       "      <td>P2</td>\n",
       "      <td>Sliding Sleeve</td>\n",
       "      <td>Niobrara</td>\n",
       "      <td>Nio C</td>\n",
       "      <td>Gel</td>\n",
       "      <td>6607.0</td>\n",
       "      <td>NaN</td>\n",
       "      <td>NaN</td>\n",
       "      <td>208468.0</td>\n",
       "      <td>215075.0</td>\n",
       "      <td>No</td>\n",
       "    </tr>\n",
       "    <tr>\n",
       "      <th>4</th>\n",
       "      <td>P2</td>\n",
       "      <td>Sliding Sleeve</td>\n",
       "      <td>Niobrara</td>\n",
       "      <td>Nio C</td>\n",
       "      <td>Gel</td>\n",
       "      <td>6461.0</td>\n",
       "      <td>NaN</td>\n",
       "      <td>NaN</td>\n",
       "      <td>203365.0</td>\n",
       "      <td>209826.0</td>\n",
       "      <td>No</td>\n",
       "    </tr>\n",
       "  </tbody>\n",
       "</table>\n",
       "</div>"
      ],
      "text/plain": [
       "  Well          System Formation Formation.1 Fluid Type  \\\n",
       "0   P2  Sliding Sleeve  Niobrara       Nio C        Gel   \n",
       "1   P2  Sliding Sleeve  Niobrara       Nio C        Gel   \n",
       "2   P2  Sliding Sleeve  Niobrara       Nio C        Gel   \n",
       "3   P2  Sliding Sleeve  Niobrara       Nio C        Gel   \n",
       "4   P2  Sliding Sleeve  Niobrara       Nio C        Gel   \n",
       "\n",
       "   100 Mesh, White [lbs]  30/50, White [lbs]  40/70, White [lbs]  \\\n",
       "0                 7412.0                 NaN                 NaN   \n",
       "1                 6165.0                 NaN                 NaN   \n",
       "2                 5880.0                 NaN                 NaN   \n",
       "3                 6607.0                 NaN                 NaN   \n",
       "4                 6461.0                 NaN                 NaN   \n",
       "\n",
       "   20/40, White [lbs]  Total Proppant [lbs].1 Screen Out  \n",
       "0            163021.0                170433.0         No  \n",
       "1            213117.0                219282.0         No  \n",
       "2            205057.0                210937.0         No  \n",
       "3            208468.0                215075.0         No  \n",
       "4            203365.0                209826.0         No  "
      ]
     },
     "execution_count": 50,
     "metadata": {},
     "output_type": "execute_result"
    }
   ],
   "source": [
    "# data frame set up\n",
    "xlsx = pd.ExcelFile('FracStats_JobList_Summer2017.xlsx')\n",
    "df_stats = xlsx.parse('FracStats')\n",
    "\n",
    "relevant_cols = ['Well', 'System', 'Formation', 'Formation.1', 'Fluid Type', '100 Mesh, White [lbs]', \n",
    "                '30/50, White [lbs]', '40/70, White [lbs]', '20/40, White [lbs]', \n",
    "                'Total Proppant [lbs].1', 'Screen Out']\n",
    "df_stats = df_stats[relevant_cols]\n",
    "\n",
    "df_stats.head()\n",
    "\n"
   ]
  },
  {
   "cell_type": "code",
   "execution_count": null,
   "metadata": {},
   "outputs": [],
   "source": []
  },
  {
   "cell_type": "code",
   "execution_count": 51,
   "metadata": {},
   "outputs": [
    {
     "name": "stdout",
     "output_type": "stream",
     "text": [
      "We have data across 1103 stages from 38 wells.\n"
     ]
    }
   ],
   "source": [
    "print(\"We have data across {} stages from {} wells.\".format(df_stats.shape[0], len(df_stats['Well'].unique())))"
   ]
  },
  {
   "cell_type": "code",
   "execution_count": 52,
   "metadata": {},
   "outputs": [
    {
     "data": {
      "image/png": "[encoded data removed]",
      "text/plain": [
       "<matplotlib.figure.Figure at 0x1184ea4a8>"
      ]
     },
     "metadata": {},
     "output_type": "display_data"
    }
   ],
   "source": [
    "sns.violinplot(x=\"Formation\", y=\"Total Proppant [lbs].1\", data=df_stats)\n",
    "plt.savefig('tes.png')"
   ]
  },
  {
   "cell_type": "markdown",
   "metadata": {},
   "source": [
    "You've been struggling on your last few stages. You haven't screened out, but you've had run-ins with high pressure and you don't want to push your luck. What are your options? Maybe you run some additional 100 Mesh to reduce tortusity -- it's expensive though, and you're already over-budget on this well. However, you can't afford to push your luck and potentially screen out with another pad to frac in just a couple days. You decide 100 Mesh is worth the added cost, but you want to use at little as possible with being certain you reap the benefits. You can obviously adjust on the fly depending on how pressure is looking, but you want to go in with a goal and you want to be proactive instead of reactive. You don't want to use that precious 100 Mesh frivously. So how much is enough?\n",
    "\n",
    "Do you double your 100 Mesh, triple it? What's the call? We know no two wells are the same, but there's power in the data you have at your disposal from Well Data Labs. Let's use it.\n",
    "\n",
    "The upcoming stage is in the Nio C. You're running Gel. You run a quick query of these parameters and come up with 94 stages in your database with these conditions."
   ]
  },
  {
   "cell_type": "code",
   "execution_count": 30,
   "metadata": {},
   "outputs": [
    {
     "name": "stdout",
     "output_type": "stream",
     "text": [
      "We have data across 646 stages from 23 wells.\n"
     ]
    }
   ],
   "source": [
    "gel_df = df_stats.loc[df_stats['Fluid Type'] == 'Gel']\n",
    "gel_df.shape\n",
    "\n",
    "print(\"We have data across {} stages from {} wells.\".format(gel_df.shape[0], len(gel_df['Well'].unique())))"
   ]
  },
  {
   "cell_type": "code",
   "execution_count": 32,
   "metadata": {},
   "outputs": [
    {
     "data": {
      "text/html": [
       "<div>\n",
       "<style>\n",
       "    .dataframe thead tr:only-child th {\n",
       "        text-align: right;\n",
       "    }\n",
       "\n",
       "    .dataframe thead th {\n",
       "        text-align: left;\n",
       "    }\n",
       "\n",
       "    .dataframe tbody tr th {\n",
       "        vertical-align: top;\n",
       "    }\n",
       "</style>\n",
       "<table border=\"1\" class=\"dataframe\">\n",
       "  <thead>\n",
       "    <tr style=\"text-align: right;\">\n",
       "      <th></th>\n",
       "      <th>Well</th>\n",
       "      <th>System</th>\n",
       "      <th>Formation.1</th>\n",
       "      <th>Fluid Type</th>\n",
       "      <th>100 Mesh, White [lbs]</th>\n",
       "      <th>30/50, White [lbs]</th>\n",
       "      <th>40/70, White [lbs]</th>\n",
       "      <th>20/40, White [lbs]</th>\n",
       "      <th>Total Proppant [lbs]</th>\n",
       "      <th>Screen Out</th>\n",
       "    </tr>\n",
       "  </thead>\n",
       "  <tbody>\n",
       "    <tr>\n",
       "      <th>0</th>\n",
       "      <td>P2</td>\n",
       "      <td>Sliding Sleeve</td>\n",
       "      <td>Nio C</td>\n",
       "      <td>Gel</td>\n",
       "      <td>7412.0</td>\n",
       "      <td>NaN</td>\n",
       "      <td>NaN</td>\n",
       "      <td>163021.0</td>\n",
       "      <td>NaN</td>\n",
       "      <td>No</td>\n",
       "    </tr>\n",
       "    <tr>\n",
       "      <th>1</th>\n",
       "      <td>P2</td>\n",
       "      <td>Sliding Sleeve</td>\n",
       "      <td>Nio C</td>\n",
       "      <td>Gel</td>\n",
       "      <td>6165.0</td>\n",
       "      <td>NaN</td>\n",
       "      <td>NaN</td>\n",
       "      <td>213117.0</td>\n",
       "      <td>NaN</td>\n",
       "      <td>No</td>\n",
       "    </tr>\n",
       "    <tr>\n",
       "      <th>2</th>\n",
       "      <td>P2</td>\n",
       "      <td>Sliding Sleeve</td>\n",
       "      <td>Nio C</td>\n",
       "      <td>Gel</td>\n",
       "      <td>5880.0</td>\n",
       "      <td>NaN</td>\n",
       "      <td>NaN</td>\n",
       "      <td>205057.0</td>\n",
       "      <td>NaN</td>\n",
       "      <td>No</td>\n",
       "    </tr>\n",
       "    <tr>\n",
       "      <th>3</th>\n",
       "      <td>P2</td>\n",
       "      <td>Sliding Sleeve</td>\n",
       "      <td>Nio C</td>\n",
       "      <td>Gel</td>\n",
       "      <td>6607.0</td>\n",
       "      <td>NaN</td>\n",
       "      <td>NaN</td>\n",
       "      <td>208468.0</td>\n",
       "      <td>NaN</td>\n",
       "      <td>No</td>\n",
       "    </tr>\n",
       "    <tr>\n",
       "      <th>4</th>\n",
       "      <td>P2</td>\n",
       "      <td>Sliding Sleeve</td>\n",
       "      <td>Nio C</td>\n",
       "      <td>Gel</td>\n",
       "      <td>6461.0</td>\n",
       "      <td>NaN</td>\n",
       "      <td>NaN</td>\n",
       "      <td>203365.0</td>\n",
       "      <td>NaN</td>\n",
       "      <td>No</td>\n",
       "    </tr>\n",
       "  </tbody>\n",
       "</table>\n",
       "</div>"
      ],
      "text/plain": [
       "  Well          System Formation.1 Fluid Type  100 Mesh, White [lbs]  \\\n",
       "0   P2  Sliding Sleeve       Nio C        Gel                 7412.0   \n",
       "1   P2  Sliding Sleeve       Nio C        Gel                 6165.0   \n",
       "2   P2  Sliding Sleeve       Nio C        Gel                 5880.0   \n",
       "3   P2  Sliding Sleeve       Nio C        Gel                 6607.0   \n",
       "4   P2  Sliding Sleeve       Nio C        Gel                 6461.0   \n",
       "\n",
       "   30/50, White [lbs]  40/70, White [lbs]  20/40, White [lbs]  \\\n",
       "0                 NaN                 NaN            163021.0   \n",
       "1                 NaN                 NaN            213117.0   \n",
       "2                 NaN                 NaN            205057.0   \n",
       "3                 NaN                 NaN            208468.0   \n",
       "4                 NaN                 NaN            203365.0   \n",
       "\n",
       "   Total Proppant [lbs] Screen Out  \n",
       "0                   NaN         No  \n",
       "1                   NaN         No  \n",
       "2                   NaN         No  \n",
       "3                   NaN         No  \n",
       "4                   NaN         No  "
      ]
     },
     "execution_count": 32,
     "metadata": {},
     "output_type": "execute_result"
    }
   ],
   "source": [
    "gel_df.head()"
   ]
  },
  {
   "cell_type": "code",
   "execution_count": 31,
   "metadata": {},
   "outputs": [
    {
     "data": {
      "image/png": "[encoded data removed]",
      "text/plain": [
       "<matplotlib.figure.Figure at 0x118d795c0>"
      ]
     },
     "metadata": {},
     "output_type": "display_data"
    }
   ],
   "source": [
    "sns.violinplot(x=\"Formation.1\", y=\"20/40, White [lbs]\", data=gel_df);"
   ]
  },
  {
   "cell_type": "code",
   "execution_count": 28,
   "metadata": {
    "scrolled": true
   },
   "outputs": [
    {
     "name": "stdout",
     "output_type": "stream",
     "text": [
      "You have 94 historical stages in the Nio C.\n"
     ]
    },
    {
     "data": {
      "text/html": [
       "<div>\n",
       "<style>\n",
       "    .dataframe thead tr:only-child th {\n",
       "        text-align: right;\n",
       "    }\n",
       "\n",
       "    .dataframe thead th {\n",
       "        text-align: left;\n",
       "    }\n",
       "\n",
       "    .dataframe tbody tr th {\n",
       "        vertical-align: top;\n",
       "    }\n",
       "</style>\n",
       "<table border=\"1\" class=\"dataframe\">\n",
       "  <thead>\n",
       "    <tr style=\"text-align: right;\">\n",
       "      <th></th>\n",
       "      <th>Well</th>\n",
       "      <th>System</th>\n",
       "      <th>Formation.1</th>\n",
       "      <th>Fluid Type</th>\n",
       "      <th>100 Mesh, White [lbs]</th>\n",
       "      <th>30/50, White [lbs]</th>\n",
       "      <th>40/70, White [lbs]</th>\n",
       "      <th>20/40, White [lbs]</th>\n",
       "      <th>Total Proppant [lbs]</th>\n",
       "      <th>Screen Out</th>\n",
       "    </tr>\n",
       "  </thead>\n",
       "  <tbody>\n",
       "    <tr>\n",
       "      <th>0</th>\n",
       "      <td>P2</td>\n",
       "      <td>Sliding Sleeve</td>\n",
       "      <td>Nio C</td>\n",
       "      <td>Gel</td>\n",
       "      <td>7412.0</td>\n",
       "      <td>NaN</td>\n",
       "      <td>NaN</td>\n",
       "      <td>163021.0</td>\n",
       "      <td>NaN</td>\n",
       "      <td>No</td>\n",
       "    </tr>\n",
       "    <tr>\n",
       "      <th>1</th>\n",
       "      <td>P2</td>\n",
       "      <td>Sliding Sleeve</td>\n",
       "      <td>Nio C</td>\n",
       "      <td>Gel</td>\n",
       "      <td>6165.0</td>\n",
       "      <td>NaN</td>\n",
       "      <td>NaN</td>\n",
       "      <td>213117.0</td>\n",
       "      <td>NaN</td>\n",
       "      <td>No</td>\n",
       "    </tr>\n",
       "    <tr>\n",
       "      <th>2</th>\n",
       "      <td>P2</td>\n",
       "      <td>Sliding Sleeve</td>\n",
       "      <td>Nio C</td>\n",
       "      <td>Gel</td>\n",
       "      <td>5880.0</td>\n",
       "      <td>NaN</td>\n",
       "      <td>NaN</td>\n",
       "      <td>205057.0</td>\n",
       "      <td>NaN</td>\n",
       "      <td>No</td>\n",
       "    </tr>\n",
       "    <tr>\n",
       "      <th>3</th>\n",
       "      <td>P2</td>\n",
       "      <td>Sliding Sleeve</td>\n",
       "      <td>Nio C</td>\n",
       "      <td>Gel</td>\n",
       "      <td>6607.0</td>\n",
       "      <td>NaN</td>\n",
       "      <td>NaN</td>\n",
       "      <td>208468.0</td>\n",
       "      <td>NaN</td>\n",
       "      <td>No</td>\n",
       "    </tr>\n",
       "    <tr>\n",
       "      <th>4</th>\n",
       "      <td>P2</td>\n",
       "      <td>Sliding Sleeve</td>\n",
       "      <td>Nio C</td>\n",
       "      <td>Gel</td>\n",
       "      <td>6461.0</td>\n",
       "      <td>NaN</td>\n",
       "      <td>NaN</td>\n",
       "      <td>203365.0</td>\n",
       "      <td>NaN</td>\n",
       "      <td>No</td>\n",
       "    </tr>\n",
       "  </tbody>\n",
       "</table>\n",
       "</div>"
      ],
      "text/plain": [
       "  Well          System Formation.1 Fluid Type  100 Mesh, White [lbs]  \\\n",
       "0   P2  Sliding Sleeve       Nio C        Gel                 7412.0   \n",
       "1   P2  Sliding Sleeve       Nio C        Gel                 6165.0   \n",
       "2   P2  Sliding Sleeve       Nio C        Gel                 5880.0   \n",
       "3   P2  Sliding Sleeve       Nio C        Gel                 6607.0   \n",
       "4   P2  Sliding Sleeve       Nio C        Gel                 6461.0   \n",
       "\n",
       "   30/50, White [lbs]  40/70, White [lbs]  20/40, White [lbs]  \\\n",
       "0                 NaN                 NaN            163021.0   \n",
       "1                 NaN                 NaN            213117.0   \n",
       "2                 NaN                 NaN            205057.0   \n",
       "3                 NaN                 NaN            208468.0   \n",
       "4                 NaN                 NaN            203365.0   \n",
       "\n",
       "   Total Proppant [lbs] Screen Out  \n",
       "0                   NaN         No  \n",
       "1                   NaN         No  \n",
       "2                   NaN         No  \n",
       "3                   NaN         No  \n",
       "4                   NaN         No  "
      ]
     },
     "execution_count": 28,
     "metadata": {},
     "output_type": "execute_result"
    }
   ],
   "source": [
    "print(\"You have {} historical stages in the Nio C.\".format(nioc_df.shape[0]))\n",
    "nioc_df.head()"
   ]
  },
  {
   "cell_type": "code",
   "execution_count": 15,
   "metadata": {},
   "outputs": [
    {
     "data": {
      "image/png": "[encoded data removed]",
      "text/plain": [
       "<matplotlib.figure.Figure at 0x112dd5438>"
      ]
     },
     "metadata": {},
     "output_type": "display_data"
    }
   ],
   "source": [
    "nioc_df.hist('100 Mesh, White [lbs]', bins=20, by='Screen Out', figsize=(16,4));"
   ]
  },
  {
   "cell_type": "markdown",
   "metadata": {},
   "source": [
    "On the left, is a histogram of stages we've had to cut treament early, with the lbs of 100 Mesh pumped during that stage. On the right, is the same historgram, but for stages we successfully pumped the entirety of the design treatment.\n",
    "\n",
    "From these graphs, we determine that it's probably wise to pump more than 3,000 lbs of 100 Mesh.\n",
    "\n",
    "Somewhere in the 3,000 - 8,000 lbs range seems like a good bet, but that's still a large range, so let's see if we can narrow it even more."
   ]
  },
  {
   "cell_type": "code",
   "execution_count": 22,
   "metadata": {},
   "outputs": [
    {
     "data": {
      "text/plain": [
       "<matplotlib.axes._subplots.AxesSubplot at 0x113478710>"
      ]
     },
     "execution_count": 22,
     "metadata": {},
     "output_type": "execute_result"
    },
    {
     "data": {
      "image/png": "[encoded data removed]",
      "text/plain": [
       "<matplotlib.figure.Figure at 0x10ed955c0>"
      ]
     },
     "metadata": {},
     "output_type": "display_data"
    }
   ],
   "source": [
    "nioc_df['20/40, White [lbs]'].plot(kind='box')"
   ]
  },
  {
   "cell_type": "code",
   "execution_count": 25,
   "metadata": {},
   "outputs": [
    {
     "ename": "KeyError",
     "evalue": "\"['P2' 'P2' 'P2' 'P2' 'P2' 'P2' 'P2' 'P2' 'P2' 'P2' 'P2' 'P2' 'P2' 'P2' 'P2'\\n 'P2' 'P2' 'P2' 'P2' 'P2' 'P2' 'P2' 'P2' 'P2' 'P2' 'P2' 'P2' 'P2' 'P2' 'P5'\\n 'P5' 'P5' 'P5' 'P5' 'P5' 'P5' 'P5' 'P5' 'P5' 'P5' 'P5' 'P5' 'P5' 'P5' 'P5'\\n 'P3' 'P3' 'P3' 'P3' 'P3' 'P3' 'P3' 'P3' 'P7' 'P7' 'P7' 'P7' 'P7' 'P7' 'P7'\\n 'P7' 'P7' 'P6' 'P6' 'P6' 'P6' 'P6' 'P6' 'P6' 'P6' 'P6' 'P6' 'P6' 'P6' 'P6'\\n 'P6' 'P6' 'P6' 'P6' 'P6' 'P6' 'P6' 'P6' 'P6' 'P6' 'P6' 'P6' 'P10' 'P10'\\n 'P10' 'P10' 'P10' 'P10' 'P10'] not in index\"",
     "output_type": "error",
     "traceback": [
      "\u001b[0;31m---------------------------------------------------------------------------\u001b[0m",
      "\u001b[0;31mKeyError\u001b[0m                                  Traceback (most recent call last)",
      "\u001b[0;32m<ipython-input-25-69dfd820f573>\u001b[0m in \u001b[0;36m<module>\u001b[0;34m()\u001b[0m\n\u001b[0;32m----> 1\u001b[0;31m \u001b[0msns\u001b[0m\u001b[0;34m.\u001b[0m\u001b[0mpairplot\u001b[0m\u001b[0;34m(\u001b[0m\u001b[0mnioc_df\u001b[0m\u001b[0;34m[\u001b[0m\u001b[0;34m[\u001b[0m\u001b[0;34m'100 Mesh, White [lbs]'\u001b[0m\u001b[0;34m,\u001b[0m \u001b[0;34m'20/40, White [lbs]'\u001b[0m\u001b[0;34m]\u001b[0m\u001b[0;34m]\u001b[0m\u001b[0;34m,\u001b[0m \u001b[0mhue\u001b[0m\u001b[0;34m=\u001b[0m\u001b[0mnioc_df\u001b[0m\u001b[0;34m[\u001b[0m\u001b[0;34m'Well'\u001b[0m\u001b[0;34m]\u001b[0m\u001b[0;34m,\u001b[0m \u001b[0mdiag_kind\u001b[0m\u001b[0;34m=\u001b[0m\u001b[0;34m\"kde\"\u001b[0m\u001b[0;34m,\u001b[0m \u001b[0mplot_kws\u001b[0m\u001b[0;34m=\u001b[0m\u001b[0;34m{\u001b[0m\u001b[0;34m\"s\"\u001b[0m\u001b[0;34m:\u001b[0m \u001b[0;36m40\u001b[0m\u001b[0;34m,\u001b[0m \u001b[0;34m\"alpha\"\u001b[0m\u001b[0;34m:\u001b[0m \u001b[0;36m0.6\u001b[0m\u001b[0;34m}\u001b[0m\u001b[0;34m)\u001b[0m\u001b[0;34m;\u001b[0m\u001b[0;34m\u001b[0m\u001b[0m\n\u001b[0m",
      "\u001b[0;32m~/anaconda3/lib/python3.6/site-packages/seaborn/axisgrid.py\u001b[0m in \u001b[0;36mpairplot\u001b[0;34m(data, hue, hue_order, palette, vars, x_vars, y_vars, kind, diag_kind, markers, size, aspect, dropna, plot_kws, diag_kws, grid_kws)\u001b[0m\n\u001b[1;32m   2017\u001b[0m                     \u001b[0mhue_order\u001b[0m\u001b[0;34m=\u001b[0m\u001b[0mhue_order\u001b[0m\u001b[0;34m,\u001b[0m \u001b[0mpalette\u001b[0m\u001b[0;34m=\u001b[0m\u001b[0mpalette\u001b[0m\u001b[0;34m,\u001b[0m\u001b[0;34m\u001b[0m\u001b[0m\n\u001b[1;32m   2018\u001b[0m                     \u001b[0mdiag_sharey\u001b[0m\u001b[0;34m=\u001b[0m\u001b[0mdiag_sharey\u001b[0m\u001b[0;34m,\u001b[0m\u001b[0;34m\u001b[0m\u001b[0m\n\u001b[0;32m-> 2019\u001b[0;31m                     size=size, aspect=aspect, dropna=dropna, **grid_kws)\n\u001b[0m\u001b[1;32m   2020\u001b[0m \u001b[0;34m\u001b[0m\u001b[0m\n\u001b[1;32m   2021\u001b[0m     \u001b[0;31m# Add the markers here as PairGrid has figured out how many levels of the\u001b[0m\u001b[0;34m\u001b[0m\u001b[0;34m\u001b[0m\u001b[0m\n",
      "\u001b[0;32m~/anaconda3/lib/python3.6/site-packages/seaborn/axisgrid.py\u001b[0m in \u001b[0;36m__init__\u001b[0;34m(self, data, hue, hue_order, palette, hue_kws, vars, x_vars, y_vars, diag_sharey, size, aspect, despine, dropna)\u001b[0m\n\u001b[1;32m   1240\u001b[0m                                       index=data.index)\n\u001b[1;32m   1241\u001b[0m         \u001b[0;32melse\u001b[0m\u001b[0;34m:\u001b[0m\u001b[0;34m\u001b[0m\u001b[0m\n\u001b[0;32m-> 1242\u001b[0;31m             \u001b[0mhue_names\u001b[0m \u001b[0;34m=\u001b[0m \u001b[0mutils\u001b[0m\u001b[0;34m.\u001b[0m\u001b[0mcategorical_order\u001b[0m\u001b[0;34m(\u001b[0m\u001b[0mdata\u001b[0m\u001b[0;34m[\u001b[0m\u001b[0mhue\u001b[0m\u001b[0;34m]\u001b[0m\u001b[0;34m,\u001b[0m \u001b[0mhue_order\u001b[0m\u001b[0;34m)\u001b[0m\u001b[0;34m\u001b[0m\u001b[0m\n\u001b[0m\u001b[1;32m   1243\u001b[0m             \u001b[0;32mif\u001b[0m \u001b[0mdropna\u001b[0m\u001b[0;34m:\u001b[0m\u001b[0;34m\u001b[0m\u001b[0m\n\u001b[1;32m   1244\u001b[0m                 \u001b[0;31m# Filter NA from the list of unique hue names\u001b[0m\u001b[0;34m\u001b[0m\u001b[0;34m\u001b[0m\u001b[0m\n",
      "\u001b[0;32m~/anaconda3/lib/python3.6/site-packages/pandas/core/frame.py\u001b[0m in \u001b[0;36m__getitem__\u001b[0;34m(self, key)\u001b[0m\n\u001b[1;32m   1956\u001b[0m         \u001b[0;32mif\u001b[0m \u001b[0misinstance\u001b[0m\u001b[0;34m(\u001b[0m\u001b[0mkey\u001b[0m\u001b[0;34m,\u001b[0m \u001b[0;34m(\u001b[0m\u001b[0mSeries\u001b[0m\u001b[0;34m,\u001b[0m \u001b[0mnp\u001b[0m\u001b[0;34m.\u001b[0m\u001b[0mndarray\u001b[0m\u001b[0;34m,\u001b[0m \u001b[0mIndex\u001b[0m\u001b[0;34m,\u001b[0m \u001b[0mlist\u001b[0m\u001b[0;34m)\u001b[0m\u001b[0;34m)\u001b[0m\u001b[0;34m:\u001b[0m\u001b[0;34m\u001b[0m\u001b[0m\n\u001b[1;32m   1957\u001b[0m             \u001b[0;31m# either boolean or fancy integer index\u001b[0m\u001b[0;34m\u001b[0m\u001b[0;34m\u001b[0m\u001b[0m\n\u001b[0;32m-> 1958\u001b[0;31m             \u001b[0;32mreturn\u001b[0m \u001b[0mself\u001b[0m\u001b[0;34m.\u001b[0m\u001b[0m_getitem_array\u001b[0m\u001b[0;34m(\u001b[0m\u001b[0mkey\u001b[0m\u001b[0;34m)\u001b[0m\u001b[0;34m\u001b[0m\u001b[0m\n\u001b[0m\u001b[1;32m   1959\u001b[0m         \u001b[0;32melif\u001b[0m \u001b[0misinstance\u001b[0m\u001b[0;34m(\u001b[0m\u001b[0mkey\u001b[0m\u001b[0;34m,\u001b[0m \u001b[0mDataFrame\u001b[0m\u001b[0;34m)\u001b[0m\u001b[0;34m:\u001b[0m\u001b[0;34m\u001b[0m\u001b[0m\n\u001b[1;32m   1960\u001b[0m             \u001b[0;32mreturn\u001b[0m \u001b[0mself\u001b[0m\u001b[0;34m.\u001b[0m\u001b[0m_getitem_frame\u001b[0m\u001b[0;34m(\u001b[0m\u001b[0mkey\u001b[0m\u001b[0;34m)\u001b[0m\u001b[0;34m\u001b[0m\u001b[0m\n",
      "\u001b[0;32m~/anaconda3/lib/python3.6/site-packages/pandas/core/frame.py\u001b[0m in \u001b[0;36m_getitem_array\u001b[0;34m(self, key)\u001b[0m\n\u001b[1;32m   2000\u001b[0m             \u001b[0;32mreturn\u001b[0m \u001b[0mself\u001b[0m\u001b[0;34m.\u001b[0m\u001b[0mtake\u001b[0m\u001b[0;34m(\u001b[0m\u001b[0mindexer\u001b[0m\u001b[0;34m,\u001b[0m \u001b[0maxis\u001b[0m\u001b[0;34m=\u001b[0m\u001b[0;36m0\u001b[0m\u001b[0;34m,\u001b[0m \u001b[0mconvert\u001b[0m\u001b[0;34m=\u001b[0m\u001b[0;32mFalse\u001b[0m\u001b[0;34m)\u001b[0m\u001b[0;34m\u001b[0m\u001b[0m\n\u001b[1;32m   2001\u001b[0m         \u001b[0;32melse\u001b[0m\u001b[0;34m:\u001b[0m\u001b[0;34m\u001b[0m\u001b[0m\n\u001b[0;32m-> 2002\u001b[0;31m             \u001b[0mindexer\u001b[0m \u001b[0;34m=\u001b[0m \u001b[0mself\u001b[0m\u001b[0;34m.\u001b[0m\u001b[0mloc\u001b[0m\u001b[0;34m.\u001b[0m\u001b[0m_convert_to_indexer\u001b[0m\u001b[0;34m(\u001b[0m\u001b[0mkey\u001b[0m\u001b[0;34m,\u001b[0m \u001b[0maxis\u001b[0m\u001b[0;34m=\u001b[0m\u001b[0;36m1\u001b[0m\u001b[0;34m)\u001b[0m\u001b[0;34m\u001b[0m\u001b[0m\n\u001b[0m\u001b[1;32m   2003\u001b[0m             \u001b[0;32mreturn\u001b[0m \u001b[0mself\u001b[0m\u001b[0;34m.\u001b[0m\u001b[0mtake\u001b[0m\u001b[0;34m(\u001b[0m\u001b[0mindexer\u001b[0m\u001b[0;34m,\u001b[0m \u001b[0maxis\u001b[0m\u001b[0;34m=\u001b[0m\u001b[0;36m1\u001b[0m\u001b[0;34m,\u001b[0m \u001b[0mconvert\u001b[0m\u001b[0;34m=\u001b[0m\u001b[0;32mTrue\u001b[0m\u001b[0;34m)\u001b[0m\u001b[0;34m\u001b[0m\u001b[0m\n\u001b[1;32m   2004\u001b[0m \u001b[0;34m\u001b[0m\u001b[0m\n",
      "\u001b[0;32m~/anaconda3/lib/python3.6/site-packages/pandas/core/indexing.py\u001b[0m in \u001b[0;36m_convert_to_indexer\u001b[0;34m(self, obj, axis, is_setter)\u001b[0m\n\u001b[1;32m   1229\u001b[0m                 \u001b[0mmask\u001b[0m \u001b[0;34m=\u001b[0m \u001b[0mcheck\u001b[0m \u001b[0;34m==\u001b[0m \u001b[0;34m-\u001b[0m\u001b[0;36m1\u001b[0m\u001b[0;34m\u001b[0m\u001b[0m\n\u001b[1;32m   1230\u001b[0m                 \u001b[0;32mif\u001b[0m \u001b[0mmask\u001b[0m\u001b[0;34m.\u001b[0m\u001b[0many\u001b[0m\u001b[0;34m(\u001b[0m\u001b[0;34m)\u001b[0m\u001b[0;34m:\u001b[0m\u001b[0;34m\u001b[0m\u001b[0m\n\u001b[0;32m-> 1231\u001b[0;31m                     \u001b[0;32mraise\u001b[0m \u001b[0mKeyError\u001b[0m\u001b[0;34m(\u001b[0m\u001b[0;34m'%s not in index'\u001b[0m \u001b[0;34m%\u001b[0m \u001b[0mobjarr\u001b[0m\u001b[0;34m[\u001b[0m\u001b[0mmask\u001b[0m\u001b[0;34m]\u001b[0m\u001b[0;34m)\u001b[0m\u001b[0;34m\u001b[0m\u001b[0m\n\u001b[0m\u001b[1;32m   1232\u001b[0m \u001b[0;34m\u001b[0m\u001b[0m\n\u001b[1;32m   1233\u001b[0m                 \u001b[0;32mreturn\u001b[0m \u001b[0m_values_from_object\u001b[0m\u001b[0;34m(\u001b[0m\u001b[0mindexer\u001b[0m\u001b[0;34m)\u001b[0m\u001b[0;34m\u001b[0m\u001b[0m\n",
      "\u001b[0;31mKeyError\u001b[0m: \"['P2' 'P2' 'P2' 'P2' 'P2' 'P2' 'P2' 'P2' 'P2' 'P2' 'P2' 'P2' 'P2' 'P2' 'P2'\\n 'P2' 'P2' 'P2' 'P2' 'P2' 'P2' 'P2' 'P2' 'P2' 'P2' 'P2' 'P2' 'P2' 'P2' 'P5'\\n 'P5' 'P5' 'P5' 'P5' 'P5' 'P5' 'P5' 'P5' 'P5' 'P5' 'P5' 'P5' 'P5' 'P5' 'P5'\\n 'P3' 'P3' 'P3' 'P3' 'P3' 'P3' 'P3' 'P3' 'P7' 'P7' 'P7' 'P7' 'P7' 'P7' 'P7'\\n 'P7' 'P7' 'P6' 'P6' 'P6' 'P6' 'P6' 'P6' 'P6' 'P6' 'P6' 'P6' 'P6' 'P6' 'P6'\\n 'P6' 'P6' 'P6' 'P6' 'P6' 'P6' 'P6' 'P6' 'P6' 'P6' 'P6' 'P6' 'P10' 'P10'\\n 'P10' 'P10' 'P10' 'P10' 'P10'] not in index\""
     ]
    },
    {
     "data": {
      "image/png": "[encoded data removed]",
      "text/plain": [
       "<matplotlib.figure.Figure at 0x10edc3e10>"
      ]
     },
     "metadata": {},
     "output_type": "display_data"
    }
   ],
   "source": [
    "sns.pairplot(nioc_df[['100 Mesh, White [lbs]', '20/40, White [lbs]']], hue=nioc_df['Well'], diag_kind=\"kde\", plot_kws={\"s\": 40, \"alpha\": 0.6});"
   ]
  },
  {
   "cell_type": "code",
   "execution_count": 26,
   "metadata": {},
   "outputs": [
    {
     "data": {
      "image/png": "[encoded data removed]",
      "text/plain": [
       "<matplotlib.figure.Figure at 0x1134a7748>"
      ]
     },
     "metadata": {},
     "output_type": "display_data"
    }
   ],
   "source": [
    "df_stats.boxplot(column='100 Mesh, White [lbs]', by='Screen Out');"
   ]
  },
  {
   "cell_type": "code",
   "execution_count": null,
   "metadata": {
    "collapsed": true
   },
   "outputs": [],
   "source": [
    "# let's look at successful stages vs. unsuccessful stages\n",
    "success_df = df_stats.loc[df_stats['Screen Out'] == 'No']\n",
    "unsuccessful_df = df_stats.loc[df_stats['Screen Out'] != 'No']"
   ]
  },
  {
   "cell_type": "code",
   "execution_count": null,
   "metadata": {
    "collapsed": true
   },
   "outputs": [],
   "source": [
    "unsuccessful_df.shape"
   ]
  },
  {
   "cell_type": "code",
   "execution_count": null,
   "metadata": {
    "collapsed": true
   },
   "outputs": [],
   "source": [
    "success_df.shape"
   ]
  },
  {
   "cell_type": "markdown",
   "metadata": {},
   "source": [
    "All that insight from X lines of code."
   ]
  },
  {
   "cell_type": "code",
   "execution_count": null,
   "metadata": {
    "collapsed": true
   },
   "outputs": [],
   "source": [
    "df_stats[\"Formation.1\"]"
   ]
  },
  {
   "cell_type": "code",
   "execution_count": null,
   "metadata": {
    "collapsed": true
   },
   "outputs": [],
   "source": []
  }
 ],
 "metadata": {
  "kernelspec": {
   "display_name": "Python 3",
   "language": "python",
   "name": "python3"
  },
  "language_info": {
   "codemirror_mode": {
    "name": "ipython",
    "version": 3
   },
   "file_extension": ".py",
   "mimetype": "text/x-python",
   "name": "python",
   "nbconvert_exporter": "python",
   "pygments_lexer": "ipython3",
   "version": "3.6.2"
  }
 },
 "nbformat": 4,
 "nbformat_minor": 2
}
