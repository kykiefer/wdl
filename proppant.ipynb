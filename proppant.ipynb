{
 "cells": [
  {
   "cell_type": "code",
   "execution_count": 88,
   "metadata": {
    "collapsed": true
   },
   "outputs": [],
   "source": [
    "import pandas as pd\n",
    "import numpy as np\n",
    "import matplotlib.pyplot as plt\n",
    "import seaborn as sns\n",
    "sns.set(style=\"ticks\")\n",
    "%matplotlib inline"
   ]
  },
  {
   "cell_type": "code",
   "execution_count": 116,
   "metadata": {},
   "outputs": [
    {
     "name": "stdout",
     "output_type": "stream",
     "text": [
      "You have 1103 stages at your disposal.\n"
     ]
    },
    {
     "data": {
      "text/html": [
       "<div>\n",
       "<style>\n",
       "    .dataframe thead tr:only-child th {\n",
       "        text-align: right;\n",
       "    }\n",
       "\n",
       "    .dataframe thead th {\n",
       "        text-align: left;\n",
       "    }\n",
       "\n",
       "    .dataframe tbody tr th {\n",
       "        vertical-align: top;\n",
       "    }\n",
       "</style>\n",
       "<table border=\"1\" class=\"dataframe\">\n",
       "  <thead>\n",
       "    <tr style=\"text-align: right;\">\n",
       "      <th></th>\n",
       "      <th>Well</th>\n",
       "      <th>System</th>\n",
       "      <th>Formation.1</th>\n",
       "      <th>Fluid Type</th>\n",
       "      <th>100 Mesh, White [lbs]</th>\n",
       "      <th>30/50, White [lbs]</th>\n",
       "      <th>40/70, White [lbs]</th>\n",
       "      <th>20/40, White [lbs]</th>\n",
       "      <th>Total Proppant [lbs]</th>\n",
       "      <th>Screen Out</th>\n",
       "    </tr>\n",
       "  </thead>\n",
       "  <tbody>\n",
       "    <tr>\n",
       "      <th>0</th>\n",
       "      <td>P2</td>\n",
       "      <td>Sliding Sleeve</td>\n",
       "      <td>Nio C</td>\n",
       "      <td>Gel</td>\n",
       "      <td>7412.0</td>\n",
       "      <td>NaN</td>\n",
       "      <td>NaN</td>\n",
       "      <td>163021.0</td>\n",
       "      <td>NaN</td>\n",
       "      <td>No</td>\n",
       "    </tr>\n",
       "    <tr>\n",
       "      <th>1</th>\n",
       "      <td>P2</td>\n",
       "      <td>Sliding Sleeve</td>\n",
       "      <td>Nio C</td>\n",
       "      <td>Gel</td>\n",
       "      <td>6165.0</td>\n",
       "      <td>NaN</td>\n",
       "      <td>NaN</td>\n",
       "      <td>213117.0</td>\n",
       "      <td>NaN</td>\n",
       "      <td>No</td>\n",
       "    </tr>\n",
       "    <tr>\n",
       "      <th>2</th>\n",
       "      <td>P2</td>\n",
       "      <td>Sliding Sleeve</td>\n",
       "      <td>Nio C</td>\n",
       "      <td>Gel</td>\n",
       "      <td>5880.0</td>\n",
       "      <td>NaN</td>\n",
       "      <td>NaN</td>\n",
       "      <td>205057.0</td>\n",
       "      <td>NaN</td>\n",
       "      <td>No</td>\n",
       "    </tr>\n",
       "    <tr>\n",
       "      <th>3</th>\n",
       "      <td>P2</td>\n",
       "      <td>Sliding Sleeve</td>\n",
       "      <td>Nio C</td>\n",
       "      <td>Gel</td>\n",
       "      <td>6607.0</td>\n",
       "      <td>NaN</td>\n",
       "      <td>NaN</td>\n",
       "      <td>208468.0</td>\n",
       "      <td>NaN</td>\n",
       "      <td>No</td>\n",
       "    </tr>\n",
       "    <tr>\n",
       "      <th>4</th>\n",
       "      <td>P2</td>\n",
       "      <td>Sliding Sleeve</td>\n",
       "      <td>Nio C</td>\n",
       "      <td>Gel</td>\n",
       "      <td>6461.0</td>\n",
       "      <td>NaN</td>\n",
       "      <td>NaN</td>\n",
       "      <td>203365.0</td>\n",
       "      <td>NaN</td>\n",
       "      <td>No</td>\n",
       "    </tr>\n",
       "  </tbody>\n",
       "</table>\n",
       "</div>"
      ],
      "text/plain": [
       "  Well          System Formation.1 Fluid Type  100 Mesh, White [lbs]  \\\n",
       "0   P2  Sliding Sleeve       Nio C        Gel                 7412.0   \n",
       "1   P2  Sliding Sleeve       Nio C        Gel                 6165.0   \n",
       "2   P2  Sliding Sleeve       Nio C        Gel                 5880.0   \n",
       "3   P2  Sliding Sleeve       Nio C        Gel                 6607.0   \n",
       "4   P2  Sliding Sleeve       Nio C        Gel                 6461.0   \n",
       "\n",
       "   30/50, White [lbs]  40/70, White [lbs]  20/40, White [lbs]  \\\n",
       "0                 NaN                 NaN            163021.0   \n",
       "1                 NaN                 NaN            213117.0   \n",
       "2                 NaN                 NaN            205057.0   \n",
       "3                 NaN                 NaN            208468.0   \n",
       "4                 NaN                 NaN            203365.0   \n",
       "\n",
       "   Total Proppant [lbs] Screen Out  \n",
       "0                   NaN         No  \n",
       "1                   NaN         No  \n",
       "2                   NaN         No  \n",
       "3                   NaN         No  \n",
       "4                   NaN         No  "
      ]
     },
     "execution_count": 116,
     "metadata": {},
     "output_type": "execute_result"
    }
   ],
   "source": [
    "# data frame set up\n",
    "xlsx = pd.ExcelFile('FracStats_JobList_Summer2017.xlsx')\n",
    "df_stats = xlsx.parse('FracStats')\n",
    "\n",
    "relevant_cols = ['Well', 'System', 'Formation.1', 'Fluid Type', '100 Mesh, White [lbs]', \n",
    "                '30/50, White [lbs]', '40/70, White [lbs]', '20/40, White [lbs]', \n",
    "                'Total Proppant [lbs]', 'Screen Out']\n",
    "df_stats = df_stats[relevant_cols]\n",
    "\n",
    "print(\"You have {} stages at your disposal.\".format(df_stats.shape[0]))\n",
    "df_stats.head()"
   ]
  },
  {
   "cell_type": "markdown",
   "metadata": {},
   "source": [
    "You've been struggling on your last few stages. You haven't screened out, but you've had run-ins with high pressure and you don't want to push your luck. What are your options? Maybe you run some additional 100 Mesh to reduce tortusity -- it's expensive though, and you're already over-budget on this well. However, you can't afford to push your luck and potentially screen out with another pad to frac in just a couple days. You decide 100 Mesh is worth the added cost, but you want to use at little as possible with being certain you reap the benefits. You can obviously adjust on the fly depending on how pressure is looking, but you want to go in with a goal. You don't want to use that precious 100 Mesh frivously. So how much is enough?\n",
    "\n",
    "Do you double your 100 Mesh, triple it? What's the call? We know no two wells are the same, but there's power in the data you have at your disposal. Let's use it.\n",
    "\n",
    "The upcoming stage is in the Nio C. You're running Gel."
   ]
  },
  {
   "cell_type": "code",
   "execution_count": 113,
   "metadata": {},
   "outputs": [
    {
     "name": "stdout",
     "output_type": "stream",
     "text": [
      "You have 94 historical stages in the Nio C.\n"
     ]
    },
    {
     "data": {
      "text/html": [
       "<div>\n",
       "<style>\n",
       "    .dataframe thead tr:only-child th {\n",
       "        text-align: right;\n",
       "    }\n",
       "\n",
       "    .dataframe thead th {\n",
       "        text-align: left;\n",
       "    }\n",
       "\n",
       "    .dataframe tbody tr th {\n",
       "        vertical-align: top;\n",
       "    }\n",
       "</style>\n",
       "<table border=\"1\" class=\"dataframe\">\n",
       "  <thead>\n",
       "    <tr style=\"text-align: right;\">\n",
       "      <th></th>\n",
       "      <th>Well</th>\n",
       "      <th>System</th>\n",
       "      <th>Formation.1</th>\n",
       "      <th>Fluid Type</th>\n",
       "      <th>100 Mesh, White [lbs]</th>\n",
       "      <th>30/50, White [lbs]</th>\n",
       "      <th>40/70, White [lbs]</th>\n",
       "      <th>20/40, White [lbs]</th>\n",
       "      <th>Total Proppant [lbs]</th>\n",
       "      <th>Screen Out</th>\n",
       "    </tr>\n",
       "  </thead>\n",
       "  <tbody>\n",
       "    <tr>\n",
       "      <th>0</th>\n",
       "      <td>P2</td>\n",
       "      <td>Sliding Sleeve</td>\n",
       "      <td>Nio C</td>\n",
       "      <td>Gel</td>\n",
       "      <td>7412.0</td>\n",
       "      <td>NaN</td>\n",
       "      <td>NaN</td>\n",
       "      <td>163021.0</td>\n",
       "      <td>NaN</td>\n",
       "      <td>No</td>\n",
       "    </tr>\n",
       "    <tr>\n",
       "      <th>1</th>\n",
       "      <td>P2</td>\n",
       "      <td>Sliding Sleeve</td>\n",
       "      <td>Nio C</td>\n",
       "      <td>Gel</td>\n",
       "      <td>6165.0</td>\n",
       "      <td>NaN</td>\n",
       "      <td>NaN</td>\n",
       "      <td>213117.0</td>\n",
       "      <td>NaN</td>\n",
       "      <td>No</td>\n",
       "    </tr>\n",
       "    <tr>\n",
       "      <th>2</th>\n",
       "      <td>P2</td>\n",
       "      <td>Sliding Sleeve</td>\n",
       "      <td>Nio C</td>\n",
       "      <td>Gel</td>\n",
       "      <td>5880.0</td>\n",
       "      <td>NaN</td>\n",
       "      <td>NaN</td>\n",
       "      <td>205057.0</td>\n",
       "      <td>NaN</td>\n",
       "      <td>No</td>\n",
       "    </tr>\n",
       "    <tr>\n",
       "      <th>3</th>\n",
       "      <td>P2</td>\n",
       "      <td>Sliding Sleeve</td>\n",
       "      <td>Nio C</td>\n",
       "      <td>Gel</td>\n",
       "      <td>6607.0</td>\n",
       "      <td>NaN</td>\n",
       "      <td>NaN</td>\n",
       "      <td>208468.0</td>\n",
       "      <td>NaN</td>\n",
       "      <td>No</td>\n",
       "    </tr>\n",
       "    <tr>\n",
       "      <th>4</th>\n",
       "      <td>P2</td>\n",
       "      <td>Sliding Sleeve</td>\n",
       "      <td>Nio C</td>\n",
       "      <td>Gel</td>\n",
       "      <td>6461.0</td>\n",
       "      <td>NaN</td>\n",
       "      <td>NaN</td>\n",
       "      <td>203365.0</td>\n",
       "      <td>NaN</td>\n",
       "      <td>No</td>\n",
       "    </tr>\n",
       "  </tbody>\n",
       "</table>\n",
       "</div>"
      ],
      "text/plain": [
       "  Well          System Formation.1 Fluid Type  100 Mesh, White [lbs]  \\\n",
       "0   P2  Sliding Sleeve       Nio C        Gel                 7412.0   \n",
       "1   P2  Sliding Sleeve       Nio C        Gel                 6165.0   \n",
       "2   P2  Sliding Sleeve       Nio C        Gel                 5880.0   \n",
       "3   P2  Sliding Sleeve       Nio C        Gel                 6607.0   \n",
       "4   P2  Sliding Sleeve       Nio C        Gel                 6461.0   \n",
       "\n",
       "   30/50, White [lbs]  40/70, White [lbs]  20/40, White [lbs]  \\\n",
       "0                 NaN                 NaN            163021.0   \n",
       "1                 NaN                 NaN            213117.0   \n",
       "2                 NaN                 NaN            205057.0   \n",
       "3                 NaN                 NaN            208468.0   \n",
       "4                 NaN                 NaN            203365.0   \n",
       "\n",
       "   Total Proppant [lbs] Screen Out  \n",
       "0                   NaN         No  \n",
       "1                   NaN         No  \n",
       "2                   NaN         No  \n",
       "3                   NaN         No  \n",
       "4                   NaN         No  "
      ]
     },
     "execution_count": 113,
     "metadata": {},
     "output_type": "execute_result"
    }
   ],
   "source": [
    "nioc_df = df_stats.loc[df_stats['Formation.1'] == 'Nio C']\n",
    "print(\"You have {} historical stages in the Nio C.\".format(nioc_df.shape[0]))\n",
    "nioc_df.head()"
   ]
  },
  {
   "cell_type": "code",
   "execution_count": 108,
   "metadata": {},
   "outputs": [
    {
     "data": {
      "image/png": "[encoded data removed]",
      "text/plain": [
       "<matplotlib.figure.Figure at 0x10e35eb38>"
      ]
     },
     "metadata": {},
     "output_type": "display_data"
    }
   ],
   "source": [
    "nioc_df.hist('100 Mesh, White [lbs]', bins=20);"
   ]
  },
  {
   "cell_type": "code",
   "execution_count": 94,
   "metadata": {},
   "outputs": [
    {
     "data": {
      "text/plain": [
       "No     91\n",
       "Cut     3\n",
       "Name: Screen Out, dtype: int64"
      ]
     },
     "execution_count": 94,
     "metadata": {},
     "output_type": "execute_result"
    }
   ],
   "source": [
    "nioc_df['Screen Out'].value_counts()"
   ]
  },
  {
   "cell_type": "code",
   "execution_count": 107,
   "metadata": {},
   "outputs": [
    {
     "ename": "KeyError",
     "evalue": "\"['Sliding Sleeve' 'Sliding Sleeve' 'Sliding Sleeve' 'Sliding Sleeve'\\n 'Sliding Sleeve' 'Sliding Sleeve' 'Sliding Sleeve' 'Sliding Sleeve'\\n 'Sliding Sleeve' 'Sliding Sleeve' 'Sliding Sleeve' 'Sliding Sleeve'\\n 'Sliding Sleeve' 'Sliding Sleeve' 'Sliding Sleeve' 'Sliding Sleeve'\\n 'Sliding Sleeve' 'Sliding Sleeve' 'Sliding Sleeve' 'Sliding Sleeve'\\n 'Sliding Sleeve' 'Sliding Sleeve' 'Sliding Sleeve' 'Sliding Sleeve'\\n 'Sliding Sleeve' 'Sliding Sleeve' 'Sliding Sleeve' 'Sliding Sleeve'\\n 'Sliding Sleeve' 'Sliding Sleeve' 'Sliding Sleeve' 'Sliding Sleeve'\\n 'Sliding Sleeve' 'Sliding Sleeve' 'Sliding Sleeve' 'Sliding Sleeve'\\n 'Sliding Sleeve' 'Sliding Sleeve' 'Sliding Sleeve' 'Sliding Sleeve'\\n 'Sliding Sleeve' 'Sliding Sleeve' 'Sliding Sleeve' 'Sliding Sleeve'\\n 'Sliding Sleeve' 'Plug and Perf' 'Plug and Perf' 'Plug and Perf'\\n 'Plug and Perf' 'Plug and Perf' 'Plug and Perf' 'Plug and Perf'\\n 'Plug and Perf' 'Sliding Sleeve' 'Sliding Sleeve' 'Sliding Sleeve'\\n 'Sliding Sleeve' 'Sliding Sleeve' 'Sliding Sleeve' 'Sliding Sleeve'\\n 'Sliding Sleeve' 'Sliding Sleeve' 'Sliding Sleeve' 'Sliding Sleeve'\\n 'Sliding Sleeve' 'Sliding Sleeve' 'Sliding Sleeve' 'Sliding Sleeve'\\n 'Sliding Sleeve' 'Sliding Sleeve' 'Sliding Sleeve' 'Sliding Sleeve'\\n 'Sliding Sleeve' 'Sliding Sleeve' 'Sliding Sleeve' 'Sliding Sleeve'\\n 'Sliding Sleeve' 'Sliding Sleeve' 'Sliding Sleeve' 'Sliding Sleeve'\\n 'Sliding Sleeve' 'Sliding Sleeve' 'Sliding Sleeve' 'Sliding Sleeve'\\n 'Sliding Sleeve' 'Sliding Sleeve' 'Sliding Sleeve' 'Plug and Perf'\\n 'Plug and Perf' 'Plug and Perf' 'Plug and Perf' 'Plug and Perf'\\n 'Plug and Perf' 'Plug and Perf'] not in index\"",
     "output_type": "error",
     "traceback": [
      "\u001b[0;31m---------------------------------------------------------------------------\u001b[0m",
      "\u001b[0;31mKeyError\u001b[0m                                  Traceback (most recent call last)",
      "\u001b[0;32m<ipython-input-107-172c8a8ec85b>\u001b[0m in \u001b[0;36m<module>\u001b[0;34m()\u001b[0m\n\u001b[0;32m----> 1\u001b[0;31m \u001b[0msns\u001b[0m\u001b[0;34m.\u001b[0m\u001b[0mpairplot\u001b[0m\u001b[0;34m(\u001b[0m\u001b[0mnioc_df\u001b[0m\u001b[0;34m[\u001b[0m\u001b[0;34m[\u001b[0m\u001b[0;34m'100 Mesh, White [lbs]'\u001b[0m\u001b[0;34m,\u001b[0m \u001b[0;34m'20/40, White [lbs]'\u001b[0m\u001b[0;34m]\u001b[0m\u001b[0;34m]\u001b[0m\u001b[0;34m,\u001b[0m \u001b[0mhue\u001b[0m\u001b[0;34m=\u001b[0m\u001b[0mnioc_df\u001b[0m\u001b[0;34m[\u001b[0m\u001b[0;34m'System'\u001b[0m\u001b[0;34m]\u001b[0m\u001b[0;34m,\u001b[0m \u001b[0mdiag_kind\u001b[0m\u001b[0;34m=\u001b[0m\u001b[0;34m\"kde\"\u001b[0m\u001b[0;34m,\u001b[0m \u001b[0mplot_kws\u001b[0m\u001b[0;34m=\u001b[0m\u001b[0;34m{\u001b[0m\u001b[0;34m\"s\"\u001b[0m\u001b[0;34m:\u001b[0m \u001b[0;36m40\u001b[0m\u001b[0;34m,\u001b[0m \u001b[0;34m\"alpha\"\u001b[0m\u001b[0;34m:\u001b[0m \u001b[0;36m0.6\u001b[0m\u001b[0;34m}\u001b[0m\u001b[0;34m)\u001b[0m\u001b[0;34m;\u001b[0m\u001b[0;34m\u001b[0m\u001b[0m\n\u001b[0m",
      "\u001b[0;32m~/anaconda3/lib/python3.6/site-packages/seaborn/axisgrid.py\u001b[0m in \u001b[0;36mpairplot\u001b[0;34m(data, hue, hue_order, palette, vars, x_vars, y_vars, kind, diag_kind, markers, size, aspect, dropna, plot_kws, diag_kws, grid_kws)\u001b[0m\n\u001b[1;32m   2017\u001b[0m                     \u001b[0mhue_order\u001b[0m\u001b[0;34m=\u001b[0m\u001b[0mhue_order\u001b[0m\u001b[0;34m,\u001b[0m \u001b[0mpalette\u001b[0m\u001b[0;34m=\u001b[0m\u001b[0mpalette\u001b[0m\u001b[0;34m,\u001b[0m\u001b[0;34m\u001b[0m\u001b[0m\n\u001b[1;32m   2018\u001b[0m                     \u001b[0mdiag_sharey\u001b[0m\u001b[0;34m=\u001b[0m\u001b[0mdiag_sharey\u001b[0m\u001b[0;34m,\u001b[0m\u001b[0;34m\u001b[0m\u001b[0m\n\u001b[0;32m-> 2019\u001b[0;31m                     size=size, aspect=aspect, dropna=dropna, **grid_kws)\n\u001b[0m\u001b[1;32m   2020\u001b[0m \u001b[0;34m\u001b[0m\u001b[0m\n\u001b[1;32m   2021\u001b[0m     \u001b[0;31m# Add the markers here as PairGrid has figured out how many levels of the\u001b[0m\u001b[0;34m\u001b[0m\u001b[0;34m\u001b[0m\u001b[0m\n",
      "\u001b[0;32m~/anaconda3/lib/python3.6/site-packages/seaborn/axisgrid.py\u001b[0m in \u001b[0;36m__init__\u001b[0;34m(self, data, hue, hue_order, palette, hue_kws, vars, x_vars, y_vars, diag_sharey, size, aspect, despine, dropna)\u001b[0m\n\u001b[1;32m   1240\u001b[0m                                       index=data.index)\n\u001b[1;32m   1241\u001b[0m         \u001b[0;32melse\u001b[0m\u001b[0;34m:\u001b[0m\u001b[0;34m\u001b[0m\u001b[0m\n\u001b[0;32m-> 1242\u001b[0;31m             \u001b[0mhue_names\u001b[0m \u001b[0;34m=\u001b[0m \u001b[0mutils\u001b[0m\u001b[0;34m.\u001b[0m\u001b[0mcategorical_order\u001b[0m\u001b[0;34m(\u001b[0m\u001b[0mdata\u001b[0m\u001b[0;34m[\u001b[0m\u001b[0mhue\u001b[0m\u001b[0;34m]\u001b[0m\u001b[0;34m,\u001b[0m \u001b[0mhue_order\u001b[0m\u001b[0;34m)\u001b[0m\u001b[0;34m\u001b[0m\u001b[0m\n\u001b[0m\u001b[1;32m   1243\u001b[0m             \u001b[0;32mif\u001b[0m \u001b[0mdropna\u001b[0m\u001b[0;34m:\u001b[0m\u001b[0;34m\u001b[0m\u001b[0m\n\u001b[1;32m   1244\u001b[0m                 \u001b[0;31m# Filter NA from the list of unique hue names\u001b[0m\u001b[0;34m\u001b[0m\u001b[0;34m\u001b[0m\u001b[0m\n",
      "\u001b[0;32m~/anaconda3/lib/python3.6/site-packages/pandas/core/frame.py\u001b[0m in \u001b[0;36m__getitem__\u001b[0;34m(self, key)\u001b[0m\n\u001b[1;32m   1956\u001b[0m         \u001b[0;32mif\u001b[0m \u001b[0misinstance\u001b[0m\u001b[0;34m(\u001b[0m\u001b[0mkey\u001b[0m\u001b[0;34m,\u001b[0m \u001b[0;34m(\u001b[0m\u001b[0mSeries\u001b[0m\u001b[0;34m,\u001b[0m \u001b[0mnp\u001b[0m\u001b[0;34m.\u001b[0m\u001b[0mndarray\u001b[0m\u001b[0;34m,\u001b[0m \u001b[0mIndex\u001b[0m\u001b[0;34m,\u001b[0m \u001b[0mlist\u001b[0m\u001b[0;34m)\u001b[0m\u001b[0;34m)\u001b[0m\u001b[0;34m:\u001b[0m\u001b[0;34m\u001b[0m\u001b[0m\n\u001b[1;32m   1957\u001b[0m             \u001b[0;31m# either boolean or fancy integer index\u001b[0m\u001b[0;34m\u001b[0m\u001b[0;34m\u001b[0m\u001b[0m\n\u001b[0;32m-> 1958\u001b[0;31m             \u001b[0;32mreturn\u001b[0m \u001b[0mself\u001b[0m\u001b[0;34m.\u001b[0m\u001b[0m_getitem_array\u001b[0m\u001b[0;34m(\u001b[0m\u001b[0mkey\u001b[0m\u001b[0;34m)\u001b[0m\u001b[0;34m\u001b[0m\u001b[0m\n\u001b[0m\u001b[1;32m   1959\u001b[0m         \u001b[0;32melif\u001b[0m \u001b[0misinstance\u001b[0m\u001b[0;34m(\u001b[0m\u001b[0mkey\u001b[0m\u001b[0;34m,\u001b[0m \u001b[0mDataFrame\u001b[0m\u001b[0;34m)\u001b[0m\u001b[0;34m:\u001b[0m\u001b[0;34m\u001b[0m\u001b[0m\n\u001b[1;32m   1960\u001b[0m             \u001b[0;32mreturn\u001b[0m \u001b[0mself\u001b[0m\u001b[0;34m.\u001b[0m\u001b[0m_getitem_frame\u001b[0m\u001b[0;34m(\u001b[0m\u001b[0mkey\u001b[0m\u001b[0;34m)\u001b[0m\u001b[0;34m\u001b[0m\u001b[0m\n",
      "\u001b[0;32m~/anaconda3/lib/python3.6/site-packages/pandas/core/frame.py\u001b[0m in \u001b[0;36m_getitem_array\u001b[0;34m(self, key)\u001b[0m\n\u001b[1;32m   2000\u001b[0m             \u001b[0;32mreturn\u001b[0m \u001b[0mself\u001b[0m\u001b[0;34m.\u001b[0m\u001b[0mtake\u001b[0m\u001b[0;34m(\u001b[0m\u001b[0mindexer\u001b[0m\u001b[0;34m,\u001b[0m \u001b[0maxis\u001b[0m\u001b[0;34m=\u001b[0m\u001b[0;36m0\u001b[0m\u001b[0;34m,\u001b[0m \u001b[0mconvert\u001b[0m\u001b[0;34m=\u001b[0m\u001b[0;32mFalse\u001b[0m\u001b[0;34m)\u001b[0m\u001b[0;34m\u001b[0m\u001b[0m\n\u001b[1;32m   2001\u001b[0m         \u001b[0;32melse\u001b[0m\u001b[0;34m:\u001b[0m\u001b[0;34m\u001b[0m\u001b[0m\n\u001b[0;32m-> 2002\u001b[0;31m             \u001b[0mindexer\u001b[0m \u001b[0;34m=\u001b[0m \u001b[0mself\u001b[0m\u001b[0;34m.\u001b[0m\u001b[0mloc\u001b[0m\u001b[0;34m.\u001b[0m\u001b[0m_convert_to_indexer\u001b[0m\u001b[0;34m(\u001b[0m\u001b[0mkey\u001b[0m\u001b[0;34m,\u001b[0m \u001b[0maxis\u001b[0m\u001b[0;34m=\u001b[0m\u001b[0;36m1\u001b[0m\u001b[0;34m)\u001b[0m\u001b[0;34m\u001b[0m\u001b[0m\n\u001b[0m\u001b[1;32m   2003\u001b[0m             \u001b[0;32mreturn\u001b[0m \u001b[0mself\u001b[0m\u001b[0;34m.\u001b[0m\u001b[0mtake\u001b[0m\u001b[0;34m(\u001b[0m\u001b[0mindexer\u001b[0m\u001b[0;34m,\u001b[0m \u001b[0maxis\u001b[0m\u001b[0;34m=\u001b[0m\u001b[0;36m1\u001b[0m\u001b[0;34m,\u001b[0m \u001b[0mconvert\u001b[0m\u001b[0;34m=\u001b[0m\u001b[0;32mTrue\u001b[0m\u001b[0;34m)\u001b[0m\u001b[0;34m\u001b[0m\u001b[0m\n\u001b[1;32m   2004\u001b[0m \u001b[0;34m\u001b[0m\u001b[0m\n",
      "\u001b[0;32m~/anaconda3/lib/python3.6/site-packages/pandas/core/indexing.py\u001b[0m in \u001b[0;36m_convert_to_indexer\u001b[0;34m(self, obj, axis, is_setter)\u001b[0m\n\u001b[1;32m   1229\u001b[0m                 \u001b[0mmask\u001b[0m \u001b[0;34m=\u001b[0m \u001b[0mcheck\u001b[0m \u001b[0;34m==\u001b[0m \u001b[0;34m-\u001b[0m\u001b[0;36m1\u001b[0m\u001b[0;34m\u001b[0m\u001b[0m\n\u001b[1;32m   1230\u001b[0m                 \u001b[0;32mif\u001b[0m \u001b[0mmask\u001b[0m\u001b[0;34m.\u001b[0m\u001b[0many\u001b[0m\u001b[0;34m(\u001b[0m\u001b[0;34m)\u001b[0m\u001b[0;34m:\u001b[0m\u001b[0;34m\u001b[0m\u001b[0m\n\u001b[0;32m-> 1231\u001b[0;31m                     \u001b[0;32mraise\u001b[0m \u001b[0mKeyError\u001b[0m\u001b[0;34m(\u001b[0m\u001b[0;34m'%s not in index'\u001b[0m \u001b[0;34m%\u001b[0m \u001b[0mobjarr\u001b[0m\u001b[0;34m[\u001b[0m\u001b[0mmask\u001b[0m\u001b[0;34m]\u001b[0m\u001b[0;34m)\u001b[0m\u001b[0;34m\u001b[0m\u001b[0m\n\u001b[0m\u001b[1;32m   1232\u001b[0m \u001b[0;34m\u001b[0m\u001b[0m\n\u001b[1;32m   1233\u001b[0m                 \u001b[0;32mreturn\u001b[0m \u001b[0m_values_from_object\u001b[0m\u001b[0;34m(\u001b[0m\u001b[0mindexer\u001b[0m\u001b[0;34m)\u001b[0m\u001b[0;34m\u001b[0m\u001b[0m\n",
      "\u001b[0;31mKeyError\u001b[0m: \"['Sliding Sleeve' 'Sliding Sleeve' 'Sliding Sleeve' 'Sliding Sleeve'\\n 'Sliding Sleeve' 'Sliding Sleeve' 'Sliding Sleeve' 'Sliding Sleeve'\\n 'Sliding Sleeve' 'Sliding Sleeve' 'Sliding Sleeve' 'Sliding Sleeve'\\n 'Sliding Sleeve' 'Sliding Sleeve' 'Sliding Sleeve' 'Sliding Sleeve'\\n 'Sliding Sleeve' 'Sliding Sleeve' 'Sliding Sleeve' 'Sliding Sleeve'\\n 'Sliding Sleeve' 'Sliding Sleeve' 'Sliding Sleeve' 'Sliding Sleeve'\\n 'Sliding Sleeve' 'Sliding Sleeve' 'Sliding Sleeve' 'Sliding Sleeve'\\n 'Sliding Sleeve' 'Sliding Sleeve' 'Sliding Sleeve' 'Sliding Sleeve'\\n 'Sliding Sleeve' 'Sliding Sleeve' 'Sliding Sleeve' 'Sliding Sleeve'\\n 'Sliding Sleeve' 'Sliding Sleeve' 'Sliding Sleeve' 'Sliding Sleeve'\\n 'Sliding Sleeve' 'Sliding Sleeve' 'Sliding Sleeve' 'Sliding Sleeve'\\n 'Sliding Sleeve' 'Plug and Perf' 'Plug and Perf' 'Plug and Perf'\\n 'Plug and Perf' 'Plug and Perf' 'Plug and Perf' 'Plug and Perf'\\n 'Plug and Perf' 'Sliding Sleeve' 'Sliding Sleeve' 'Sliding Sleeve'\\n 'Sliding Sleeve' 'Sliding Sleeve' 'Sliding Sleeve' 'Sliding Sleeve'\\n 'Sliding Sleeve' 'Sliding Sleeve' 'Sliding Sleeve' 'Sliding Sleeve'\\n 'Sliding Sleeve' 'Sliding Sleeve' 'Sliding Sleeve' 'Sliding Sleeve'\\n 'Sliding Sleeve' 'Sliding Sleeve' 'Sliding Sleeve' 'Sliding Sleeve'\\n 'Sliding Sleeve' 'Sliding Sleeve' 'Sliding Sleeve' 'Sliding Sleeve'\\n 'Sliding Sleeve' 'Sliding Sleeve' 'Sliding Sleeve' 'Sliding Sleeve'\\n 'Sliding Sleeve' 'Sliding Sleeve' 'Sliding Sleeve' 'Sliding Sleeve'\\n 'Sliding Sleeve' 'Sliding Sleeve' 'Sliding Sleeve' 'Plug and Perf'\\n 'Plug and Perf' 'Plug and Perf' 'Plug and Perf' 'Plug and Perf'\\n 'Plug and Perf' 'Plug and Perf'] not in index\""
     ]
    },
    {
     "data": {
      "image/png": "[encoded data removed]",
      "text/plain": [
       "<matplotlib.figure.Figure at 0x110d95c88>"
      ]
     },
     "metadata": {},
     "output_type": "display_data"
    }
   ],
   "source": [
    "sns.pairplot(nioc_df[['100 Mesh, White [lbs]', '20/40, White [lbs]']], hue=nioc_df['System'], diag_kind=\"kde\", plot_kws={\"s\": 40, \"alpha\": 0.6});"
   ]
  },
  {
   "cell_type": "code",
   "execution_count": null,
   "metadata": {},
   "outputs": [],
   "source": [
    "df_stats.boxplot(column='100 Mesh, White [lbs]', by='Screen Out');"
   ]
  },
  {
   "cell_type": "code",
   "execution_count": null,
   "metadata": {},
   "outputs": [],
   "source": [
    "# let's look at successful stages vs. unsuccessful stages\n",
    "success_df = df_stats.loc[df_stats['Screen Out'] == 'No']\n",
    "unsuccessful_df = df_stats.loc[df_stats['Screen Out'] != 'No']"
   ]
  },
  {
   "cell_type": "code",
   "execution_count": null,
   "metadata": {},
   "outputs": [],
   "source": [
    "unsuccessful_df.shape"
   ]
  },
  {
   "cell_type": "code",
   "execution_count": null,
   "metadata": {},
   "outputs": [],
   "source": [
    "success_df.shape"
   ]
  },
  {
   "cell_type": "markdown",
   "metadata": {},
   "source": [
    "All that insight from X lines of code."
   ]
  },
  {
   "cell_type": "code",
   "execution_count": null,
   "metadata": {},
   "outputs": [],
   "source": [
    "df_stats[\"Formation.1\"]"
   ]
  },
  {
   "cell_type": "code",
   "execution_count": null,
   "metadata": {
    "collapsed": true
   },
   "outputs": [],
   "source": []
  }
 ],
 "metadata": {
  "kernelspec": {
   "display_name": "Python 3",
   "language": "python",
   "name": "python3"
  },
  "language_info": {
   "codemirror_mode": {
    "name": "ipython",
    "version": 3
   },
   "file_extension": ".py",
   "mimetype": "text/x-python",
   "name": "python",
   "nbconvert_exporter": "python",
   "pygments_lexer": "ipython3",
   "version": "3.6.2"
  }
 },
 "nbformat": 4,
 "nbformat_minor": 2
}
