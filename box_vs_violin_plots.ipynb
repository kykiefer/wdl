{
 "cells": [
  {
   "cell_type": "markdown",
   "metadata": {},
   "source": [
    "### A comparision of box plots and violin plots in Python\n",
    "\n",
    "Below I write code in Python by interacting with two modules — pandas and seaborn. [Pandas](http://pandas.pydata.org/) is an Excel-like module for big data and enhanced manipulation. [Seaborn](https://seaborn.pydata.org/) is a tool for creating beautiful charts and visuals. If you gain comfort with Python and these modules, machine learning is not far away (look to a module called [scikit-learn](http://scikit-learn.org/stable/) and [this tutorial](http://scikit-learn.org/stable/tutorial/basic/tutorial.html) to get started)."
   ]
  },
  {
   "cell_type": "markdown",
   "metadata": {},
   "source": [
    "This analysis is performed in a Jupyter notebook. It is an excellent tool for exploratory data analysis becuase you can seemlessly interlace code with visuals and comments."
   ]
  },
  {
   "cell_type": "code",
   "execution_count": 1,
   "metadata": {},
   "outputs": [
    {
     "name": "stdout",
     "output_type": "stream",
     "text": [
      "We will use a bit of code to generate 2 plots.\n",
      "A box plot and a violin plot.\n"
     ]
    }
   ],
   "source": [
    "# this is a code block\n",
    "# comments are initiaed with a '#' symbol\n",
    "# statements not led with a '#' are interpreted as code\n",
    "num_plts = 1 + 1  # a Python integer type\n",
    "plt_types = ['box', 'violin']  # a Python list type\n",
    "print(\"We will use a bit of code to generate {} plots.\".format(num_plts))\n",
    "print(\"A {} plot and a {} plot.\".format(plt_types[0], plt_types[1]))"
   ]
  },
  {
   "cell_type": "code",
   "execution_count": 2,
   "metadata": {
    "collapsed": true
   },
   "outputs": [],
   "source": [
    "# import helpful modules\n",
    "import pandas as pd  # pd is an alias for pandas we can reference to call pandas functions in our code\n",
    "import matplotlib.pyplot as plt\n",
    "import seaborn as sns\n",
    "%matplotlib inline"
   ]
  },
  {
   "cell_type": "code",
   "execution_count": 3,
   "metadata": {},
   "outputs": [],
   "source": [
    "# load the Excel file\n",
    "xlsx = pd.ExcelFile('FracStats_JobList_Summer2017.xlsx')\n",
    "# load the selected tab from the Excel workbook into a pandas dataframe\n",
    "df_frac = xlsx.parse('FracStats')"
   ]
  },
  {
   "cell_type": "code",
   "execution_count": 4,
   "metadata": {},
   "outputs": [
    {
     "data": {
      "text/html": [
       "<div>\n",
       "<style>\n",
       "    .dataframe thead tr:only-child th {\n",
       "        text-align: right;\n",
       "    }\n",
       "\n",
       "    .dataframe thead th {\n",
       "        text-align: left;\n",
       "    }\n",
       "\n",
       "    .dataframe tbody tr th {\n",
       "        vertical-align: top;\n",
       "    }\n",
       "</style>\n",
       "<table border=\"1\" class=\"dataframe\">\n",
       "  <thead>\n",
       "    <tr style=\"text-align: right;\">\n",
       "      <th></th>\n",
       "      <th>Well</th>\n",
       "      <th>Formation</th>\n",
       "      <th>Fluid Type</th>\n",
       "      <th>100 Mesh, White [lbs]</th>\n",
       "      <th>30/50, White [lbs]</th>\n",
       "      <th>40/70, White [lbs]</th>\n",
       "      <th>20/40, White [lbs]</th>\n",
       "      <th>Total Proppant [lbs]</th>\n",
       "      <th>Screen Out</th>\n",
       "    </tr>\n",
       "  </thead>\n",
       "  <tbody>\n",
       "    <tr>\n",
       "      <th>0</th>\n",
       "      <td>P2</td>\n",
       "      <td>Niobrara</td>\n",
       "      <td>Gel</td>\n",
       "      <td>7412.0</td>\n",
       "      <td>0.0</td>\n",
       "      <td>0.0</td>\n",
       "      <td>163021.0</td>\n",
       "      <td>170433.0</td>\n",
       "      <td>No</td>\n",
       "    </tr>\n",
       "    <tr>\n",
       "      <th>1</th>\n",
       "      <td>P2</td>\n",
       "      <td>Niobrara</td>\n",
       "      <td>Gel</td>\n",
       "      <td>6165.0</td>\n",
       "      <td>0.0</td>\n",
       "      <td>0.0</td>\n",
       "      <td>213117.0</td>\n",
       "      <td>219282.0</td>\n",
       "      <td>No</td>\n",
       "    </tr>\n",
       "    <tr>\n",
       "      <th>2</th>\n",
       "      <td>P2</td>\n",
       "      <td>Niobrara</td>\n",
       "      <td>Gel</td>\n",
       "      <td>5880.0</td>\n",
       "      <td>0.0</td>\n",
       "      <td>0.0</td>\n",
       "      <td>205057.0</td>\n",
       "      <td>210937.0</td>\n",
       "      <td>No</td>\n",
       "    </tr>\n",
       "    <tr>\n",
       "      <th>3</th>\n",
       "      <td>P2</td>\n",
       "      <td>Niobrara</td>\n",
       "      <td>Gel</td>\n",
       "      <td>6607.0</td>\n",
       "      <td>0.0</td>\n",
       "      <td>0.0</td>\n",
       "      <td>208468.0</td>\n",
       "      <td>215075.0</td>\n",
       "      <td>No</td>\n",
       "    </tr>\n",
       "    <tr>\n",
       "      <th>4</th>\n",
       "      <td>P2</td>\n",
       "      <td>Niobrara</td>\n",
       "      <td>Gel</td>\n",
       "      <td>6461.0</td>\n",
       "      <td>0.0</td>\n",
       "      <td>0.0</td>\n",
       "      <td>203365.0</td>\n",
       "      <td>209826.0</td>\n",
       "      <td>No</td>\n",
       "    </tr>\n",
       "  </tbody>\n",
       "</table>\n",
       "</div>"
      ],
      "text/plain": [
       "  Well Formation Fluid Type  100 Mesh, White [lbs]  30/50, White [lbs]  \\\n",
       "0   P2  Niobrara        Gel                 7412.0                 0.0   \n",
       "1   P2  Niobrara        Gel                 6165.0                 0.0   \n",
       "2   P2  Niobrara        Gel                 5880.0                 0.0   \n",
       "3   P2  Niobrara        Gel                 6607.0                 0.0   \n",
       "4   P2  Niobrara        Gel                 6461.0                 0.0   \n",
       "\n",
       "   40/70, White [lbs]  20/40, White [lbs]  Total Proppant [lbs] Screen Out  \n",
       "0                 0.0            163021.0              170433.0         No  \n",
       "1                 0.0            213117.0              219282.0         No  \n",
       "2                 0.0            205057.0              210937.0         No  \n",
       "3                 0.0            208468.0              215075.0         No  \n",
       "4                 0.0            203365.0              209826.0         No  "
      ]
     },
     "execution_count": 4,
     "metadata": {},
     "output_type": "execute_result"
    }
   ],
   "source": [
    "# print the first five rows of the dataframe\n",
    "df_frac.head()"
   ]
  },
  {
   "cell_type": "markdown",
   "metadata": {},
   "source": [
    "Let's create another dataframe where the following conditions for a stage are met:\n",
    "1. Fluid type is Gel.\n",
    "2. Not screened out or cut. "
   ]
  },
  {
   "cell_type": "code",
   "execution_count": 5,
   "metadata": {
    "collapsed": true
   },
   "outputs": [],
   "source": [
    "df_gel = df_frac.loc[(df_frac['Fluid Type'] == 'Gel') & (df_frac['Screen Out'] == 'No')]"
   ]
  },
  {
   "cell_type": "code",
   "execution_count": 6,
   "metadata": {},
   "outputs": [
    {
     "name": "stdout",
     "output_type": "stream",
     "text": [
      "590 stages across 22 wells.\n"
     ]
    }
   ],
   "source": [
    "print(\"{} stages across {} wells.\".format(df_gel.shape[0], len(df_gel['Well'].unique())))"
   ]
  },
  {
   "cell_type": "code",
   "execution_count": 7,
   "metadata": {},
   "outputs": [
    {
     "data": {
      "image/png": "[encoded data removed]",
      "text/plain": [
       "<matplotlib.figure.Figure at 0x10d42cda0>"
      ]
     },
     "metadata": {},
     "output_type": "display_data"
    }
   ],
   "source": [
    "# plot the distribution of total sand pumped by formation in a box plot\n",
    "df_gel.boxplot(column='Total Proppant [lbs]', by='Formation', showfliers=False);"
   ]
  },
  {
   "cell_type": "code",
   "execution_count": 8,
   "metadata": {},
   "outputs": [
    {
     "data": {
      "image/png": "[encoded data removed]",
      "text/plain": [
       "<matplotlib.figure.Figure at 0x10d64e940>"
      ]
     },
     "metadata": {},
     "output_type": "display_data"
    }
   ],
   "source": [
    "# plot the distribution of total sand pumped by formation in a violin plot\n",
    "sns.violinplot(data=df_gel, x='Formation', y='Total Proppant [lbs]');"
   ]
  }
 ],
 "metadata": {
  "kernelspec": {
   "display_name": "Python 3",
   "language": "python",
   "name": "python3"
  },
  "language_info": {
   "codemirror_mode": {
    "name": "ipython",
    "version": 3
   },
   "file_extension": ".py",
   "mimetype": "text/x-python",
   "name": "python",
   "nbconvert_exporter": "python",
   "pygments_lexer": "ipython3",
   "version": "3.6.2"
  }
 },
 "nbformat": 4,
 "nbformat_minor": 2
}
